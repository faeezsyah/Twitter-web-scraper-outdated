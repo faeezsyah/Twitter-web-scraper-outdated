{
 "cells": [
  {
   "cell_type": "code",
   "execution_count": 1,
   "metadata": {},
   "outputs": [],
   "source": [
    "import pandas as pd\n",
    "import snscrape.modules.twitter as sntwitter"
   ]
  },
  {
   "cell_type": "code",
   "execution_count": 2,
   "metadata": {},
   "outputs": [],
   "source": [
    "scraper = sntwitter.TwitterProfileScraper(\"\")\n"
   ]
  },
  {
   "cell_type": "code",
   "execution_count": 3,
   "metadata": {},
   "outputs": [],
   "source": [
    "list1 = []\n",
    "\n",
    "for i,tweet in enumerate(scraper.get_items()):\n",
    "    \n",
    "\n",
    "    data = [\n",
    "        tweet.id,\n",
    "        tweet.date,\n",
    "        tweet.likeCount,\n",
    "        tweet.user,\n",
    "        tweet.url,\n",
    "        tweet.renderedContent\n",
    "    ]\n",
    "\n",
    "\n",
    "\n",
    "    if i == 3000:\n",
    "        break\n",
    "    else:\n",
    "        list1.append(data)\n",
    "\n",
    "\n",
    "\n",
    "\n",
    "df = pd.DataFrame(list1,columns = ['id', 'date' ,'likeCount', 'user', 'url' ,'renderedContent' ])\n"
   ]
  },
  {
   "cell_type": "code",
   "execution_count": null,
   "metadata": {},
   "outputs": [],
   "source": [
    "boolean2 = (df['renderedContent'].str.contains('@',na=False))\n",
    "dfsaved2 = df.loc[boolean2]\n",
    "dfsaved2.to_csv('dfthread2.csv')"
   ]
  },
  {
   "cell_type": "code",
   "execution_count": 60,
   "metadata": {},
   "outputs": [],
   "source": [
    "\n",
    "\n",
    "boolean = (df['likeCount']>60) & (~df['renderedContent'].str.contains('@',na=False))\n",
    "\n",
    "dfsaved = df.loc[boolean]"
   ]
  },
  {
   "cell_type": "code",
   "execution_count": 61,
   "metadata": {},
   "outputs": [],
   "source": [
    "dfsaved.to_csv('dfsaved3.csv')"
   ]
  }
 ],
 "metadata": {
  "kernelspec": {
   "display_name": "venvName8",
   "language": "python",
   "name": "python3"
  },
  "language_info": {
   "codemirror_mode": {
    "name": "ipython",
    "version": 3
   },
   "file_extension": ".py",
   "mimetype": "text/x-python",
   "name": "python",
   "nbconvert_exporter": "python",
   "pygments_lexer": "ipython3",
   "version": "3.9.12"
  },
  "orig_nbformat": 4
 },
 "nbformat": 4,
 "nbformat_minor": 2
}
